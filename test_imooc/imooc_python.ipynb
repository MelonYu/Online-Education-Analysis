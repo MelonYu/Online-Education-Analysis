{
 "cells": [
  {
   "cell_type": "markdown",
   "metadata": {},
   "source": [
    "# 爬虫测试\n",
    "\n",
    "一个爬虫示例\n",
    "爬取网站为慕课网"
   ]
  },
  {
   "cell_type": "code",
   "execution_count": 5,
   "metadata": {},
   "outputs": [
    {
     "name": "stdout",
     "output_type": "stream",
     "text": [
      "\n",
      "Python操作三大主流数据库\n",
      "\n",
      "Python Flask高级编程\n",
      "\n",
      "Python Flask 构建微电影视频网站\n",
      "\n",
      "Python+Django+Ansible Playbook自动化运维项目实战\n",
      "\n",
      "Python开发环境搭建\n",
      "\n",
      "Python入门\n",
      "\n",
      "Python-面向对象\n",
      "\n",
      "Python操作MySQL数据库\n",
      "\n",
      "Python在数据科学中的应用\n",
      "\n",
      "Python实现线性回归\n"
     ]
    }
   ],
   "source": [
    "''' 爬虫测试'''\n",
    "\n",
    "import urllib2\n",
    "from bs4 import BeautifulSoup\n",
    "\n",
    "# urllib2 下载url的网页内容\n",
    "\n",
    "# 慕课网 python\n",
    "url = 'https://www.imooc.com/search/?words=python'\n",
    "\n",
    "request = urllib2.Request(url)\n",
    "request.add_header(\"user-agent\",\"Mozilla/5.0\")\n",
    "res = urllib2.urlopen(request)\n",
    "filename = 'python_wy.txt'\n",
    "\n",
    "if res.getcode() == 200:\n",
    "    \n",
    "    html_doc = res.read()\n",
    "    soup = BeautifulSoup(html_doc, 'html.parser', from_encoding='utf-8')\n",
    "    course_list = soup.find_all(\"a\",class_=\"course-detail-title\")\n",
    "#    print course_list\n",
    "    for course in course_list:\n",
    "        print(course.get_text().strip())\n",
    "else:\n",
    "    print('code: %d'%res.getcode())\n"
   ]
  },
  {
   "cell_type": "code",
   "execution_count": 2,
   "metadata": {},
   "outputs": [
    {
     "name": "stdout",
     "output_type": "stream",
     "text": [
      "python3.6+django2.0+xadmin零基础入门\n",
      "深入浅出带你学Python冲击年薪30万【马哥教育】\n",
      "【松勤】Python编程实战（自动化测试课程体系）\n",
      "Python 完全零基础入门精讲 【优品课堂】\n",
      "Python开发+人工智能实战课程(基础篇)-【马哥教育】\n",
      "李院长-京峰Python开发实战【京峰教育】\n",
      "人工智能+Python自动化+Python全栈全能工程师-挑战年薪30万\n",
      "跟我读 《RhinoPython 101》系列视频教学\n",
      "VIP-1806班-Python全能开发班\n",
      "Python全栈自动化VIP课程\n",
      "运维开发工程师预习课—Python和Django入门\n",
      "Python轻松入门到项目实战【动脑学院】\n",
      "python 程序设计\n",
      "Python开发/自动化/网络爬虫/运维/从入门到精通【动脑学院】\n",
      "Python数据挖掘实战\n",
      "【超级数学建模】数据科学家成长之路——Python机器学习实战\n",
      "Python高级开发 Flask 爬虫 Openstack Django\n",
      "python 全栈 接口自动化测试工程师\n",
      "While老师主讲-高薪就业python自动化运维云计算企业实战课程\n",
      "For-Python【零基础】到精通/Flask/爬虫/Opensatack/Django\n",
      "【超级数学建模|公开课】Python机器学习—泰坦尼克号获救预测\n",
      "While老师-Python自动化运维开发（Django、Flask）-速成课程\n",
      "Python WEB全栈开发 Head老师\n",
      "《Python入门必备指南》之如何系统地自学 Python？\n",
      "一周Excel直通车--7天学会Excel[操作+函数+透视表+图表全模块]\n",
      "【Next学位x微信】官方小程序开发-精选视频\n",
      "淘宝美工实战特训 平面设计 海报设计 主图 详情页 运营 智源教育\n",
      "游戏原画设计：同人线稿造型/入门与提高【原画人】\n",
      "淘宝开店 2018淘宝搜索排名提升快速解决流量问题【优梯教育】\n",
      "电商设计初级进阶 淘宝美工逆袭 网页设计 平面设计\n",
      "2019国考 2018下半年省考笔试公开课\n",
      "CDR/PS/AI平面设计零基础到职业化免费试听课程\n",
      "2019国考笔试体验课【尚政公考】\n",
      "2019考研高等数学零基础课（同济七版教材导学）\n",
      "【齐论教育】数据化解析淘宝店铺，轻松成就电商达人\n",
      "RAC设计课堂 2018公开课08-我在罗德岛设计学院学设计\n"
     ]
    }
   ],
   "source": [
    "''' 爬虫测试'''\n",
    "\n",
    "import urllib2\n",
    "from bs4 import BeautifulSoup\n",
    "\n",
    "# urllib2 下载url的网页内容\n",
    "\n",
    "# 腾讯课堂 python\n",
    "url = 'https://ke.qq.com/course/list/python'\n",
    "\n",
    "request = urllib2.Request(url)\n",
    "request.add_header(\"user-agent\",\"Mozilla/5.0\")\n",
    "res = urllib2.urlopen(request)\n",
    "filename = 'python_wy.txt'\n",
    "\n",
    "if res.getcode() == 200:\n",
    "    \n",
    "    html_doc = res.read()\n",
    "    soup = BeautifulSoup(html_doc, 'html.parser', from_encoding='utf-8')\n",
    "    course_list = soup.find_all(\"img\",class_=\"item-img\")\n",
    "#    print course_list\n",
    "    for course in course_list:\n",
    "        print(course['title'].strip())\n",
    "else:\n",
    "    print('code: %d'%res.getcode())"
   ]
  }
 ],
 "metadata": {
  "kernelspec": {
   "display_name": "Python 2",
   "language": "python",
   "name": "python2"
  },
  "language_info": {
   "codemirror_mode": {
    "name": "ipython",
    "version": 3
   },
   "file_extension": ".py",
   "mimetype": "text/x-python",
   "name": "python",
   "nbconvert_exporter": "python",
   "pygments_lexer": "ipython3",
   "version": "3.6.5"
  }
 },
 "nbformat": 4,
 "nbformat_minor": 1
}
