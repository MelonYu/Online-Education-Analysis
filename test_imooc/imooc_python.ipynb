{
 "cells": [
  {
   "cell_type": "markdown",
   "metadata": {},
   "source": [
    "# 爬虫测试\n",
    "\n",
    "一个爬虫示例\n",
    "爬取网站为慕课网"
   ]
  },
  {
   "cell_type": "code",
   "execution_count": 6,
   "metadata": {
    "collapsed": false
   },
   "outputs": [
    {
     "name": "stdout",
     "output_type": "stream",
     "text": [
      "\n",
      "Python操作三大主流数据库\n",
      "\n",
      "Python Flask高级编程\n",
      "\n",
      "Python Flask 构建微电影视频网站\n",
      "\n",
      "Python+Django+Ansible Playbook自动化运维项目实战\n",
      "\n",
      "Python开发环境搭建\n",
      "\n",
      "Python入门\n",
      "\n",
      "Python-面向对象\n",
      "\n",
      "Python操作MySQL数据库\n",
      "\n",
      "Python在数据科学中的应用\n",
      "\n",
      "python装饰器\n"
     ]
    }
   ],
   "source": [
    "''' 爬虫测试'''\n",
    "\n",
    "import urllib2\n",
    "from bs4 import BeautifulSoup\n",
    "\n",
    "# urllib2 下载url的网页内容\n",
    "\n",
    "# 慕课网 python\n",
    "url = 'https://www.imooc.com/search/?words=python'\n",
    "\n",
    "request = urllib2.Request(url)\n",
    "request.add_header(\"user-agent\",\"Mozilla/5.0\")\n",
    "res = urllib2.urlopen(request)\n",
    "filename = 'python_wy.txt'\n",
    "\n",
    "if res.getcode() == 200:\n",
    "    \n",
    "    html_doc = res.read()\n",
    "    soup = BeautifulSoup(html_doc, 'html.parser', from_encoding='utf-8')\n",
    "    course_list = soup.find_all(\"a\",class_=\"course-detail-title\")\n",
    "#    print course_list\n",
    "    for course in course_list:\n",
    "        print course.get_text().strip()\n",
    "else:\n",
    "    print('code: %d'%res.getcode())\n"
   ]
  },
  {
   "cell_type": "code",
   "execution_count": null,
   "metadata": {
    "collapsed": true
   },
   "outputs": [],
   "source": []
  }
 ],
 "metadata": {
  "kernelspec": {
   "display_name": "Python [conda root]",
   "language": "python",
   "name": "conda-root-py"
  },
  "language_info": {
   "codemirror_mode": {
    "name": "ipython",
    "version": 2
   },
   "file_extension": ".py",
   "mimetype": "text/x-python",
   "name": "python",
   "nbconvert_exporter": "python",
   "pygments_lexer": "ipython2",
   "version": "2.7.12"
  }
 },
 "nbformat": 4,
 "nbformat_minor": 1
}
