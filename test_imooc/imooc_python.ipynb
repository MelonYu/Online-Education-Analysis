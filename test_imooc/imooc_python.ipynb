{
 "cells": [
  {
   "cell_type": "markdown",
   "metadata": {},
   "source": [
    "# 爬虫测试\n",
    "\n",
    "一个爬虫示例\n",
    "爬取网站为慕课网"
   ]
  },
  {
   "cell_type": "code",
   "execution_count": 5,
   "metadata": {},
   "outputs": [
    {
     "name": "stdout",
     "output_type": "stream",
     "text": [
      "\n",
      "Python操作三大主流数据库\n",
      "\n",
      "Python Flask高级编程\n",
      "\n",
      "Python Flask 构建微电影视频网站\n",
      "\n",
      "Python+Django+Ansible Playbook自动化运维项目实战\n",
      "\n",
      "Python开发环境搭建\n",
      "\n",
      "Python入门\n",
      "\n",
      "Python-面向对象\n",
      "\n",
      "Python操作MySQL数据库\n",
      "\n",
      "Python在数据科学中的应用\n",
      "\n",
      "Python实现线性回归\n"
     ]
    }
   ],
   "source": [
    "''' 爬虫测试'''\n",
    "\n",
    "import urllib2\n",
    "from bs4 import BeautifulSoup\n",
    "\n",
    "# urllib2 下载url的网页内容\n",
    "\n",
    "# 慕课网 python\n",
    "url = 'https://www.imooc.com/search/?words=python'\n",
    "#url = 'https://ke.qq.com/course/list/python'\n",
    "request = urllib2.Request(url)\n",
    "request.add_header(\"user-agent\",\"Mozilla/5.0\")\n",
    "res = urllib2.urlopen(request)\n",
    "filename = 'python_wy.txt'\n",
    "\n",
    "if res.getcode() == 200:\n",
    "    \n",
    "    html_doc = res.read()\n",
    "    soup = BeautifulSoup(html_doc, 'html.parser', from_encoding='utf-8')\n",
    "    course_list = soup.find_all(\"a\",class_=\"course-detail-title\")\n",
    "#    print course_list\n",
    "    for course in course_list:\n",
    "        print(course.get_text().strip())\n",
    "else:\n",
    "    print('code: %d'%res.getcode())\n"
   ]
  },
  {
   "cell_type": "code",
<<<<<<< HEAD
   "execution_count": 1,
   "metadata": {
    "collapsed": false
   },
=======
   "execution_count": 2,
   "metadata": {},
>>>>>>> cf391738c62215e94751ddeb073eb5abf163dcc7
   "outputs": [
    {
     "name": "stdout",
     "output_type": "stream",
     "text": [
      "python3.6+django2.0+xadmin零基础入门\n",
<<<<<<< HEAD
      "python全栈自动化测试工程师第7期\n",
      "人工智能+Python自动化+Python全栈全能工程师-挑战年薪30万\n",
      "深入浅出带你学Python冲击年薪30万【马哥教育】\n",
      "Python轻松入门到项目实战【动脑学院】\n",
      "【松勤】Python编程实战（自动化测试课程体系）\n",
      "python 全栈 接口自动化测试工程师\n",
      "Python开发+人工智能实战课程(基础篇)-【马哥教育】\n",
      "Python 完全零基础入门精讲 【优品课堂】\n",
      "【超级数学建模】数据科学家成长之路——Python机器学习实战\n",
      "Python开发/自动化/网络爬虫/运维/从入门到精通【动脑学院】\n",
      "运维开发工程师预习课—Python和Django入门\n",
      "李院长-京峰Python开发实战【京峰教育】\n",
      "Python全栈开发从入门到精通，挑战年薪20万\n",
      "python全栈WEB自动化+RF+APP+Jenkins自动化测试\n",
      "For-Python【零基础】到精通/Flask/爬虫/Opensatack/Django\n",
      "【超级数学建模|公开课】Python机器学习—泰坦尼克号获救预测\n",
      "我们只培养会Python开发和人工智能的大数据分析师\n",
      "Python高级开发 Flask 爬虫 Openstack Django\n",
      "Python零基础入门精讲\n",
      "While老师主讲-高薪就业python自动化运维云计算企业实战课程\n",
      "Python高级开发实战VIP班【京峰教育】\n",
      "While老师-Python自动化运维开发（Django、Flask）-速成课程\n",
      "Python零基础入门直通车\n",
      "一周Excel直通车--7天学会Excel[操作+函数+透视表+图表全模块]\n",
      "巧匠 电商设计 淘宝美工零基础系统班级 PS c4d  精修  手绘\n",
      "PS/C4D/AI/CDR平面设计 VI视觉识别 色彩版式 画册排版  logo设计\n",
      "【Next学位x微信】官方小程序开发-精选视频\n",
      "淘宝美工实战特训 平面设计 海报设计 主图 详情页 运营 智源教育\n",
      "游戏原画设计：同人线稿造型/入门与提高【原画人】\n",
=======
      "深入浅出带你学Python冲击年薪30万【马哥教育】\n",
      "【松勤】Python编程实战（自动化测试课程体系）\n",
      "Python 完全零基础入门精讲 【优品课堂】\n",
      "Python开发+人工智能实战课程(基础篇)-【马哥教育】\n",
      "李院长-京峰Python开发实战【京峰教育】\n",
      "人工智能+Python自动化+Python全栈全能工程师-挑战年薪30万\n",
      "跟我读 《RhinoPython 101》系列视频教学\n",
      "VIP-1806班-Python全能开发班\n",
      "Python全栈自动化VIP课程\n",
      "运维开发工程师预习课—Python和Django入门\n",
      "Python轻松入门到项目实战【动脑学院】\n",
      "python 程序设计\n",
      "Python开发/自动化/网络爬虫/运维/从入门到精通【动脑学院】\n",
      "Python数据挖掘实战\n",
      "【超级数学建模】数据科学家成长之路——Python机器学习实战\n",
      "Python高级开发 Flask 爬虫 Openstack Django\n",
      "python 全栈 接口自动化测试工程师\n",
      "While老师主讲-高薪就业python自动化运维云计算企业实战课程\n",
      "For-Python【零基础】到精通/Flask/爬虫/Opensatack/Django\n",
      "【超级数学建模|公开课】Python机器学习—泰坦尼克号获救预测\n",
      "While老师-Python自动化运维开发（Django、Flask）-速成课程\n",
      "Python WEB全栈开发 Head老师\n",
      "《Python入门必备指南》之如何系统地自学 Python？\n",
      "一周Excel直通车--7天学会Excel[操作+函数+透视表+图表全模块]\n",
      "【Next学位x微信】官方小程序开发-精选视频\n",
      "淘宝美工实战特训 平面设计 海报设计 主图 详情页 运营 智源教育\n",
      "游戏原画设计：同人线稿造型/入门与提高【原画人】\n",
      "淘宝开店 2018淘宝搜索排名提升快速解决流量问题【优梯教育】\n",
      "电商设计初级进阶 淘宝美工逆袭 网页设计 平面设计\n",
>>>>>>> cf391738c62215e94751ddeb073eb5abf163dcc7
      "2019国考 2018下半年省考笔试公开课\n",
      "CDR/PS/AI平面设计零基础到职业化免费试听课程\n",
      "2019国考笔试体验课【尚政公考】\n",
      "2019考研高等数学零基础课（同济七版教材导学）\n",
      "【齐论教育】数据化解析淘宝店铺，轻松成就电商达人\n",
<<<<<<< HEAD
      "政治点睛班-全国I卷班\n"
=======
      "RAC设计课堂 2018公开课08-我在罗德岛设计学院学设计\n"
>>>>>>> cf391738c62215e94751ddeb073eb5abf163dcc7
     ]
    }
   ],
   "source": [
    "''' 爬虫测试'''\n",
    "\n",
    "import urllib2\n",
    "from bs4 import BeautifulSoup\n",
    "\n",
    "# urllib2 下载url的网页内容\n",
    "\n",
    "# 腾讯课堂 python\n",
<<<<<<< HEAD
    "#url = 'https://www.imooc.com/search/?words=python'\n",
    "url = 'https://ke.qq.com/course/list/python'\n",
=======
    "url = 'https://ke.qq.com/course/list/python'\n",
    "\n",
>>>>>>> cf391738c62215e94751ddeb073eb5abf163dcc7
    "request = urllib2.Request(url)\n",
    "request.add_header(\"user-agent\",\"Mozilla/5.0\")\n",
    "res = urllib2.urlopen(request)\n",
    "filename = 'python_wy.txt'\n",
    "\n",
    "if res.getcode() == 200:\n",
    "    \n",
    "    html_doc = res.read()\n",
    "    soup = BeautifulSoup(html_doc, 'html.parser', from_encoding='utf-8')\n",
    "    course_list = soup.find_all(\"img\",class_=\"item-img\")\n",
    "#    print course_list\n",
    "    for course in course_list:\n",
<<<<<<< HEAD
    "        print course['title']\n",
    "else:\n",
    "    print('code: %d'%res.getcode())\n"
   ]
  },
  {
   "cell_type": "code",
   "execution_count": 6,
   "metadata": {
    "collapsed": false
   },
   "outputs": [
    {
     "name": "stdout",
     "output_type": "stream",
     "text": [
      "Python for EverybodySpecialization·University of Michigan\n",
      "Programming for Everybody (Getting Started with Python)Course·University of Michigan\n",
      "Applied Data Science with PythonSpecialization·University of Michigan\n",
      "Introduction to Data Science in PythonCourse·University of Michigan\n",
      "Python Data StructuresCourse·University of Michigan\n",
      "Using Python to Access Web DataCourse·University of Michigan\n",
      "Applied Machine Learning in PythonCourse·University of Michigan\n",
      "Using Databases with PythonCourse·University of Michigan\n",
      "Introducción a la programación en Python I: Aprendiendo a programar con PythonCourse·Pontificia Universidad Católica de Chile\n",
      "Python Programming: A Concise IntroductionCourse·Wesleyan University\n",
      "Introdução à Ciência da Computação com Python Parte 1Course·Universidade de São Paulo\n",
      "Applied Plotting, Charting & Data Representation in PythonCourse·University of Michigan\n",
      "Introduction to Scripting in PythonSpecialization·Rice University\n",
      "Математика и Python для анализа данныхCourse·Yandex, Moscow Institute of Physics and Technology\n",
      "Capstone: Retrieving, Processing, and Visualizing Data with PythonCourse·University of Michigan\n",
      "An Introduction to Interactive Programming in Python (Part 1)Course·Rice University\n",
      "Applied Text Mining in PythonCourse·University of Michigan\n",
      "Программирование на PythonSpecialization·ФРОО, Mail.Ru Group, Moscow Institute of Physics and Technology\n",
      "Введение в программирование на PythonCourse·ФРОО, Moscow Institute of Physics and Technology, Mail.Ru Group\n",
      "Основы программирования на PythonCourse·National Research University Higher School of Economics\n"
     ]
    }
   ],
   "source": [
    "''' 爬虫测试'''\n",
    "\n",
    "import urllib2\n",
    "from bs4 import BeautifulSoup\n",
    "\n",
    "# urllib2 下载url的网页内容\n",
    "\n",
    "# couresa python\n",
    "#url = 'https://www.imooc.com/search/?words=python'\n",
    "url = 'https://www.coursera.org/courses?query=python'\n",
    "request = urllib2.Request(url)\n",
    "request.add_header(\"user-agent\",\"Mozilla/5.0\")\n",
    "res = urllib2.urlopen(request)\n",
    "\n",
    "if res.getcode() == 200:\n",
    "    \n",
    "    html_doc = res.read()\n",
    "    soup = BeautifulSoup(html_doc, 'html.parser', from_encoding='utf-8')\n",
    "    course_list = soup.find_all(\"div\",class_=\"card-info\")\n",
    "#    print course_list\n",
    "    for course in course_list:\n",
    "        print course.get_text()\n",
    "else:\n",
    "    print('code: %d'%res.getcode())\n",
    "\n"
   ]
  },
  {
   "cell_type": "code",
   "execution_count": 3,
   "metadata": {
    "collapsed": false
   },
   "outputs": [],
   "source": [
    "\n",
    "''' 爬虫测试'''\n",
    "\n",
    "import urllib2\n",
    "from bs4 import BeautifulSoup\n",
    "\n",
    "# urllib2 下载url的网页内容\n",
    "\n",
    "# 中国大学mooc python\n",
    "#url = 'https://www.imooc.com/search/?words=python'\n",
    "url = 'https://www.icourse163.org/search.htm?search=python#type=30&orderBy=0&pageIndex=1'\n",
    "request = urllib2.Request(url)\n",
    "request.add_header(\"user-agent\",\"Mozilla/5.0\")\n",
    "res = urllib2.urlopen(request)\n",
    "\n",
    "if res.getcode() == 200:\n",
    "    \n",
    "    html_doc = res.read()\n",
    "    soup = BeautifulSoup(html_doc, 'html.parser', from_encoding='utf-8')\n",
    "    #<div class=\"u-clist f-bg f-cb f-pr j-href ga-click\" data-href=\"/course/BIT-1002058035\"\n",
    "    course_list = soup.find_all(\"div\",class_=\"cnt f-pr\")\n",
    "#    print course_list\n",
    "    for course in course_list:\n",
    "        print course\n",
    "else:\n",
    "    print('code: %d'%res.getcode())"
   ]
  },
  {
   "cell_type": "code",
   "execution_count": 8,
   "metadata": {
    "collapsed": false
   },
   "outputs": [
    {
     "name": "stdout",
     "output_type": "stream",
     "text": [
      "C\\u8BED\\u8A00\\u7A0B\\u5E8F\\u8BBE\\u8BA1\n"
     ]
    }
   ],
   "source": [
    "41','0',\"[{\\\"title\\\":\\\"C\\u8BED\\u8A00\\u7A0B\\u5E8F\\u8BBE\\u8BA1\\\",\\\"org\\\":\\\"\\u6D59\\u6C5F\\u5927\\u5B66\\\",\\\"photoUrl\\\":\\\"http://nos.netease.com/edu-image/b8d2a936-1b5d-4aaf-9f14-6d38f38be1a3.jpg?imageView&quality=100\\\",\\\"targetUrl\\\":\\\"http://www.icourse163.org/course/ZJU-1001614008\\"
   ]
=======
    "        print(course['title'].strip())\n",
    "else:\n",
    "    print('code: %d'%res.getcode())"
   ]
>>>>>>> cf391738c62215e94751ddeb073eb5abf163dcc7
  }
 ],
 "metadata": {
  "anaconda-cloud": {},
  "kernelspec": {
   "display_name": "Python 2",
   "language": "python",
   "name": "python2"
  },
  "language_info": {
   "codemirror_mode": {
    "name": "ipython",
    "version": 3
   },
   "file_extension": ".py",
   "mimetype": "text/x-python",
   "name": "python",
   "nbconvert_exporter": "python",
   "pygments_lexer": "ipython3",
   "version": "3.6.5"
  }
 },
 "nbformat": 4,
 "nbformat_minor": 1
}
