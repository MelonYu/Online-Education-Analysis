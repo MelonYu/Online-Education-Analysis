{
 "cells": [
  {
   "cell_type": "code",
   "execution_count": 27,
   "metadata": {},
   "outputs": [
    {
     "name": "stdout",
     "output_type": "stream",
     "text": [
      "你鸡鸡小，你别说话\n",
      "新的一天加油\n",
      "看戏热了吧，来吹个空调\n",
      "被我打败啦\n",
      "比个你（猪）\n"
     ]
    }
   ],
   "source": [
    "import requests\n",
    "from bs4 import BeautifulSoup\n",
    "\n",
    "\n",
    "\n",
    "BASE_PAGE_URL = 'http://www.doutula.com/photo/list/?page='\n",
    "PAGE_URL_LIST = []\n",
    "\n",
    "image_dict = []\n",
    "for x in range(1,3):\n",
    "    url = BASE_PAGE_URL + str(x)\n",
    "    \n",
    "    \n",
    "# 获取网页数据\n",
    "    response = requests.get(url)\n",
    "    html_doc = response.content\n",
    "    \n",
    "    soup = BeautifulSoup(html_doc,'html.parser',from_encoding='utf-8')\n",
    "    image_list = soup.find_all(\"img\",class_=\"img-responsive lazy image_dta\")\n",
    "    a_list = soup.find_all(\"a\",class_=\"col-xs-6 col-sm-3\")\n",
    "    \n",
    "    for i in range(len(a_list)):\n",
    "        image_dict.append({'img_page_url':a_list[i]['href'],\n",
    "                          'img_title':image_list[i]['alt'],\n",
    "                          'img_src_url':image_list[i]['data-original']})\n",
    "\n",
    "for t in image_dict[0:5]:\n",
    "    print t['img_title']"
   ]
  }
 ],
 "metadata": {
  "kernelspec": {
   "display_name": "Python 2",
   "language": "python",
   "name": "python2"
  },
  "language_info": {
   "codemirror_mode": {
    "name": "ipython",
    "version": 2
   },
   "file_extension": ".py",
   "mimetype": "text/x-python",
   "name": "python",
   "nbconvert_exporter": "python",
   "pygments_lexer": "ipython2",
   "version": "2.7.15rc1"
  }
 },
 "nbformat": 4,
 "nbformat_minor": 2
}
